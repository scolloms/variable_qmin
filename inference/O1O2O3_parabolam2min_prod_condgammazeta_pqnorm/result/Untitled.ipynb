{
 "cells": [
  {
   "cell_type": "code",
   "execution_count": 3,
   "id": "cef2cdce-f9bd-4fc8-a79f-64373731f83c",
   "metadata": {},
   "outputs": [],
   "source": [
    "import pandas as pd\n",
    "\n",
    "obj = pd.read_pickle(r'bbh_mass_SmoothedParabolam2min_spin_iid_spin_redshift_powerlaw_resume.pickle')"
   ]
  },
  {
   "cell_type": "code",
   "execution_count": null,
   "id": "984b8234-0b1f-4d64-a74c-ff9686d26c09",
   "metadata": {},
   "outputs": [],
   "source": []
  }
 ],
 "metadata": {
  "kernelspec": {
   "display_name": "Python 3 (ipykernel)",
   "language": "python",
   "name": "python3"
  },
  "language_info": {
   "codemirror_mode": {
    "name": "ipython",
    "version": 3
   },
   "file_extension": ".py",
   "mimetype": "text/x-python",
   "name": "python",
   "nbconvert_exporter": "python",
   "pygments_lexer": "ipython3",
   "version": "3.10.14"
  }
 },
 "nbformat": 4,
 "nbformat_minor": 5
}
