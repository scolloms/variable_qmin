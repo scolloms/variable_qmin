{
 "cells": [
  {
   "cell_type": "code",
   "execution_count": 3,
   "id": "eb89eca3-5fe0-4b24-9fcb-ce0d49afec2a",
   "metadata": {},
   "outputs": [],
   "source": [
    "import numpy as np\n",
    "import pandas as pd\n",
    "from json import loads, dumps\n",
    "import bilby"
   ]
  },
  {
   "cell_type": "code",
   "execution_count": 9,
   "id": "dff13800-bd03-4f31-9d17-939c4337f3db",
   "metadata": {},
   "outputs": [],
   "source": [
    "prior = bilby.prior.ConditionalPriorDict(filename='O4a-variablem2min.prior')"
   ]
  },
  {
   "cell_type": "code",
   "execution_count": 11,
   "id": "b544b78a-5e30-495b-b6ee-315d45f86a3e",
   "metadata": {},
   "outputs": [],
   "source": [
    "prior.to_json(outdir='.', label='O4a-variablem2min')"
   ]
  },
  {
   "cell_type": "code",
   "execution_count": null,
   "id": "b622ea03-a983-433d-a5e3-9ded3607f24a",
   "metadata": {},
   "outputs": [],
   "source": []
  }
 ],
 "metadata": {
  "kernelspec": {
   "display_name": "Python 3 (ipykernel)",
   "language": "python",
   "name": "python3"
  },
  "language_info": {
   "codemirror_mode": {
    "name": "ipython",
    "version": 3
   },
   "file_extension": ".py",
   "mimetype": "text/x-python",
   "name": "python",
   "nbconvert_exporter": "python",
   "pygments_lexer": "ipython3",
   "version": "3.10.14"
  }
 },
 "nbformat": 4,
 "nbformat_minor": 5
}
