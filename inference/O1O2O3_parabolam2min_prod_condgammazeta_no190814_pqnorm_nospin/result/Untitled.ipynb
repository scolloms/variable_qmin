{
 "cells": [
  {
   "cell_type": "code",
   "execution_count": 6,
   "id": "a4f65457-4207-4f0e-9c23-19b3daab553e",
   "metadata": {},
   "outputs": [],
   "source": [
    "import pandas as pd\n",
    "import pickle"
   ]
  },
  {
   "cell_type": "code",
   "execution_count": 3,
   "id": "fbce6efe-5b2d-4248-87ca-b04f42056f25",
   "metadata": {},
   "outputs": [
    {
     "data": {
      "text/plain": [
       "{}"
      ]
     },
     "execution_count": 3,
     "metadata": {},
     "output_type": "execute_result"
    }
   ],
   "source": [
    "pd.read_pickle('bbh_mass_SmoothedParabolam2min_redshift_powerlaw_resume.pickle')"
   ]
  },
  {
   "cell_type": "code",
   "execution_count": 7,
   "id": "db485ea7-fc67-495d-9741-b38f3f961fba",
   "metadata": {},
   "outputs": [],
   "source": [
    "objects = []\n",
    "with (open(\"bbh_mass_SmoothedParabolam2min_redshift_powerlaw_resume.pickle\", \"rb\")) as openfile:\n",
    "    while True:\n",
    "        try:\n",
    "            objects.append(pickle.load(openfile))\n",
    "        except EOFError:\n",
    "            break"
   ]
  },
  {
   "cell_type": "code",
   "execution_count": 8,
   "id": "aaea2b52-23de-4202-b2a9-8f870ad9620a",
   "metadata": {},
   "outputs": [
    {
     "data": {
      "text/plain": [
       "[{}]"
      ]
     },
     "execution_count": 8,
     "metadata": {},
     "output_type": "execute_result"
    }
   ],
   "source": [
    "objects"
   ]
  },
  {
   "cell_type": "code",
   "execution_count": null,
   "id": "d2685946-3e41-49a7-8bee-9a39102240ad",
   "metadata": {},
   "outputs": [],
   "source": []
  }
 ],
 "metadata": {
  "kernelspec": {
   "display_name": "Python 3 (ipykernel)",
   "language": "python",
   "name": "python3"
  },
  "language_info": {
   "codemirror_mode": {
    "name": "ipython",
    "version": 3
   },
   "file_extension": ".py",
   "mimetype": "text/x-python",
   "name": "python",
   "nbconvert_exporter": "python",
   "pygments_lexer": "ipython3",
   "version": "3.10.14"
  }
 },
 "nbformat": 4,
 "nbformat_minor": 5
}
