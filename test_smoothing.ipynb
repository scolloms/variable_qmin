{
 "cells": [
  {
   "cell_type": "markdown",
   "id": "a68d018a-4cd0-4881-8e14-871d96c9c9cb",
   "metadata": {},
   "source": [
    "Testing implemntation of SmoothedParabolam2min and SmoothedPLm2min"
   ]
  },
  {
   "cell_type": "code",
   "execution_count": 1,
   "id": "823fbf1d-89df-4bf9-8d16-f4599fd7703d",
   "metadata": {},
   "outputs": [
    {
     "name": "stderr",
     "output_type": "stream",
     "text": [
      "/opt/conda/igwn-py310-20240410/lib/python3.10/site-packages/pandas/core/computation/expressions.py:21: UserWarning: Pandas requires version '2.8.4' or newer of 'numexpr' (version '2.7.3' currently installed).\n",
      "  from pandas.core.computation.check import NUMEXPR_INSTALLED\n"
     ]
    }
   ],
   "source": [
    "import h5py\n",
    "import matplotlib.pyplot as plt\n",
    "import numpy as np\n",
    "import corner as corner\n",
    "from gwpopulation.utils import powerlaw\n",
    "import glob\n",
    "import corner as corner\n",
    "import os\n",
    "import cProfile"
   ]
  },
  {
   "cell_type": "code",
   "execution_count": 2,
   "id": "242b3aab-9962-49cb-a146-edf46853fde3",
   "metadata": {},
   "outputs": [],
   "source": [
    "from gwpopulation.models.mass import SinglePeakSmoothedMassDistribution, two_component_single"
   ]
  },
  {
   "cell_type": "code",
   "execution_count": 3,
   "id": "dd415370-3a71-4ccf-bfc2-57b58b0b9377",
   "metadata": {},
   "outputs": [],
   "source": [
    "from variable_qmin import SmoothedParabolam2min, SmoothedPowerlawm2min"
   ]
  },
  {
   "cell_type": "code",
   "execution_count": 4,
   "id": "678735ef-e6a7-4905-8deb-2c42679f7209",
   "metadata": {},
   "outputs": [],
   "source": [
    "#points from prior\n",
    "no_points = 1\n",
    "dataset={'mass_1':np.linspace(2.,100.,100000), 'mass_ratio':np.linspace(.5,1.,100000)} \n",
    "alpha = np.ones(no_points)*4.5\n",
    "beta = np.ones(no_points)*-1.5\n",
    "gamma = np.ones(no_points)*.1\n",
    "zeta = np.ones(no_points)*-0.01\n",
    "mmin = np.ones(no_points)*4.\n",
    "mmax = np.ones(no_points)*90.\n",
    "lam = np.ones(no_points)*0.2\n",
    "mpp  = np.ones(no_points)*50\n",
    "sigpp = np.ones(no_points)*2.\n",
    "delta_m = np.ones(no_points)*3."
   ]
  },
  {
   "cell_type": "code",
   "execution_count": 5,
   "id": "4778e46e-f1c9-49be-a238-e6bddcaf5b65",
   "metadata": {},
   "outputs": [],
   "source": [
    "params = dict(\n",
    "        alpha=alpha,\n",
    "        beta =beta,\n",
    "        gamma=gamma,\n",
    "        zeta=zeta,\n",
    "        mmin=2.,\n",
    "        mmax=100.,\n",
    "        lam=lam,\n",
    "        mpp=mpp,\n",
    "        sigpp=sigpp,\n",
    "        delta_m=5.,\n",
    "        gaussian_mass_maximum=np.ones(no_points)*60.,\n",
    "    )\n",
    "\n",
    "[ 3.34889339e+00  1.30864970e+00 -3.28527995e-01  8.36118960e+01\n",
    "  5.84376062e+00  7.85892769e-03  2.06637826e-01  3.01136888e+01\n",
    "  3.13816527e+00  6.88329616e+00  3.12716488e-01  4.40414992e-02\n",
    "  8.31650045e-01  2.93545706e+00  3.82738486e+00]"
   ]
  },
  {
   "cell_type": "code",
   "execution_count": 4,
   "id": "9dec63cc-da31-455f-9cf5-9de8e7dfe517",
   "metadata": {},
   "outputs": [
    {
     "ename": "CUDARuntimeError",
     "evalue": "cudaErrorInsufficientDriver: CUDA driver version is insufficient for CUDA runtime version",
     "output_type": "error",
     "traceback": [
      "\u001b[0;31m---------------------------------------------------------------------------\u001b[0m",
      "\u001b[0;31mCUDARuntimeError\u001b[0m                          Traceback (most recent call last)",
      "Cell \u001b[0;32mIn[4], line 1\u001b[0m\n\u001b[0;32m----> 1\u001b[0m variable_qmin_class \u001b[38;5;241m=\u001b[39m \u001b[43mSmoothedParabolam2min\u001b[49m\u001b[43m(\u001b[49m\u001b[43m)\u001b[49m\n",
      "File \u001b[0;32m/opt/conda/igwn-py310-20240410/lib/python3.10/site-packages/gwpopulation/models/mass.py:520\u001b[0m, in \u001b[0;36mBaseSmoothedMassDistribution.__init__\u001b[0;34m(self, mmin, mmax, normalization_shape)\u001b[0m\n\u001b[1;32m    518\u001b[0m \u001b[38;5;28mself\u001b[39m\u001b[38;5;241m.\u001b[39mmmin \u001b[38;5;241m=\u001b[39m mmin\n\u001b[1;32m    519\u001b[0m \u001b[38;5;28mself\u001b[39m\u001b[38;5;241m.\u001b[39mmmax \u001b[38;5;241m=\u001b[39m mmax\n\u001b[0;32m--> 520\u001b[0m \u001b[38;5;28mself\u001b[39m\u001b[38;5;241m.\u001b[39mm1s \u001b[38;5;241m=\u001b[39m \u001b[43mxp\u001b[49m\u001b[38;5;241;43m.\u001b[39;49m\u001b[43mlinspace\u001b[49m\u001b[43m(\u001b[49m\u001b[43mmmin\u001b[49m\u001b[43m,\u001b[49m\u001b[43m \u001b[49m\u001b[43mmmax\u001b[49m\u001b[43m,\u001b[49m\u001b[43m \u001b[49m\u001b[43mnormalization_shape\u001b[49m\u001b[43m[\u001b[49m\u001b[38;5;241;43m0\u001b[39;49m\u001b[43m]\u001b[49m\u001b[43m)\u001b[49m\n\u001b[1;32m    521\u001b[0m \u001b[38;5;28mself\u001b[39m\u001b[38;5;241m.\u001b[39mqs \u001b[38;5;241m=\u001b[39m xp\u001b[38;5;241m.\u001b[39mlinspace(\u001b[38;5;241m0.001\u001b[39m, \u001b[38;5;241m1\u001b[39m, normalization_shape[\u001b[38;5;241m1\u001b[39m])\n\u001b[1;32m    522\u001b[0m \u001b[38;5;28mself\u001b[39m\u001b[38;5;241m.\u001b[39mdm \u001b[38;5;241m=\u001b[39m \u001b[38;5;28mself\u001b[39m\u001b[38;5;241m.\u001b[39mm1s[\u001b[38;5;241m1\u001b[39m] \u001b[38;5;241m-\u001b[39m \u001b[38;5;28mself\u001b[39m\u001b[38;5;241m.\u001b[39mm1s[\u001b[38;5;241m0\u001b[39m]\n",
      "File \u001b[0;32m/opt/conda/igwn-py310-20240410/lib/python3.10/site-packages/cupy/_creation/ranges.py:161\u001b[0m, in \u001b[0;36mlinspace\u001b[0;34m(start, stop, num, endpoint, retstep, dtype, axis)\u001b[0m\n\u001b[1;32m    159\u001b[0m scalar_stop \u001b[38;5;241m=\u001b[39m cupy\u001b[38;5;241m.\u001b[39misscalar(stop)\n\u001b[1;32m    160\u001b[0m \u001b[38;5;28;01mif\u001b[39;00m scalar_start \u001b[38;5;129;01mand\u001b[39;00m scalar_stop:\n\u001b[0;32m--> 161\u001b[0m     \u001b[38;5;28;01mreturn\u001b[39;00m \u001b[43m_linspace_scalar\u001b[49m\u001b[43m(\u001b[49m\u001b[43mstart\u001b[49m\u001b[43m,\u001b[49m\u001b[43m \u001b[49m\u001b[43mstop\u001b[49m\u001b[43m,\u001b[49m\u001b[43m \u001b[49m\u001b[43mnum\u001b[49m\u001b[43m,\u001b[49m\u001b[43m \u001b[49m\u001b[43mendpoint\u001b[49m\u001b[43m,\u001b[49m\u001b[43m \u001b[49m\u001b[43mretstep\u001b[49m\u001b[43m,\u001b[49m\u001b[43m \u001b[49m\u001b[43mdtype\u001b[49m\u001b[43m)\u001b[49m\n\u001b[1;32m    163\u001b[0m \u001b[38;5;28;01mif\u001b[39;00m \u001b[38;5;129;01mnot\u001b[39;00m scalar_start:\n\u001b[1;32m    164\u001b[0m     \u001b[38;5;28;01mif\u001b[39;00m \u001b[38;5;129;01mnot\u001b[39;00m (\u001b[38;5;28misinstance\u001b[39m(start, cupy\u001b[38;5;241m.\u001b[39mndarray) \u001b[38;5;129;01mand\u001b[39;00m start\u001b[38;5;241m.\u001b[39mdtype\u001b[38;5;241m.\u001b[39mkind \u001b[38;5;241m==\u001b[39m \u001b[38;5;124m'\u001b[39m\u001b[38;5;124mf\u001b[39m\u001b[38;5;124m'\u001b[39m):\n",
      "File \u001b[0;32m/opt/conda/igwn-py310-20240410/lib/python3.10/site-packages/cupy/_creation/ranges.py:91\u001b[0m, in \u001b[0;36m_linspace_scalar\u001b[0;34m(start, stop, num, endpoint, retstep, dtype)\u001b[0m\n\u001b[1;32m     87\u001b[0m \u001b[38;5;28;01mif\u001b[39;00m dtype \u001b[38;5;129;01mis\u001b[39;00m \u001b[38;5;28;01mNone\u001b[39;00m:\n\u001b[1;32m     88\u001b[0m     \u001b[38;5;66;03m# In actual implementation, only float is used\u001b[39;00m\n\u001b[1;32m     89\u001b[0m     dtype \u001b[38;5;241m=\u001b[39m dt\n\u001b[0;32m---> 91\u001b[0m ret \u001b[38;5;241m=\u001b[39m \u001b[43mcupy\u001b[49m\u001b[38;5;241;43m.\u001b[39;49m\u001b[43mempty\u001b[49m\u001b[43m(\u001b[49m\u001b[43m(\u001b[49m\u001b[43mnum\u001b[49m\u001b[43m,\u001b[49m\u001b[43m)\u001b[49m\u001b[43m,\u001b[49m\u001b[43m \u001b[49m\u001b[43mdtype\u001b[49m\u001b[38;5;241;43m=\u001b[39;49m\u001b[43mdt\u001b[49m\u001b[43m)\u001b[49m\n\u001b[1;32m     92\u001b[0m div \u001b[38;5;241m=\u001b[39m (num \u001b[38;5;241m-\u001b[39m \u001b[38;5;241m1\u001b[39m) \u001b[38;5;28;01mif\u001b[39;00m endpoint \u001b[38;5;28;01melse\u001b[39;00m num\n\u001b[1;32m     93\u001b[0m \u001b[38;5;28;01mif\u001b[39;00m div \u001b[38;5;241m<\u001b[39m\u001b[38;5;241m=\u001b[39m \u001b[38;5;241m0\u001b[39m:\n",
      "File \u001b[0;32m/opt/conda/igwn-py310-20240410/lib/python3.10/site-packages/cupy/_creation/basic.py:31\u001b[0m, in \u001b[0;36mempty\u001b[0;34m(shape, dtype, order)\u001b[0m\n\u001b[1;32m     12\u001b[0m \u001b[38;5;28;01mdef\u001b[39;00m \u001b[38;5;21mempty\u001b[39m(\n\u001b[1;32m     13\u001b[0m         shape: _ShapeLike,\n\u001b[1;32m     14\u001b[0m         dtype: DTypeLike \u001b[38;5;241m=\u001b[39m \u001b[38;5;28mfloat\u001b[39m,\n\u001b[1;32m     15\u001b[0m         order: _OrderCF \u001b[38;5;241m=\u001b[39m \u001b[38;5;124m'\u001b[39m\u001b[38;5;124mC\u001b[39m\u001b[38;5;124m'\u001b[39m,\n\u001b[1;32m     16\u001b[0m ) \u001b[38;5;241m-\u001b[39m\u001b[38;5;241m>\u001b[39m NDArray[Any]:\n\u001b[1;32m     17\u001b[0m     \u001b[38;5;124;03m\"\"\"Returns an array without initializing the elements.\u001b[39;00m\n\u001b[1;32m     18\u001b[0m \n\u001b[1;32m     19\u001b[0m \u001b[38;5;124;03m    Args:\u001b[39;00m\n\u001b[0;32m   (...)\u001b[0m\n\u001b[1;32m     29\u001b[0m \n\u001b[1;32m     30\u001b[0m \u001b[38;5;124;03m    \"\"\"\u001b[39;00m\n\u001b[0;32m---> 31\u001b[0m     \u001b[38;5;28;01mreturn\u001b[39;00m \u001b[43mcupy\u001b[49m\u001b[38;5;241;43m.\u001b[39;49m\u001b[43mndarray\u001b[49m\u001b[43m(\u001b[49m\u001b[43mshape\u001b[49m\u001b[43m,\u001b[49m\u001b[43m \u001b[49m\u001b[43mdtype\u001b[49m\u001b[43m,\u001b[49m\u001b[43m \u001b[49m\u001b[43morder\u001b[49m\u001b[38;5;241;43m=\u001b[39;49m\u001b[43morder\u001b[49m\u001b[43m)\u001b[49m\n",
      "File \u001b[0;32mcupy/_core/core.pyx:132\u001b[0m, in \u001b[0;36mcupy._core.core.ndarray.__new__\u001b[0;34m()\u001b[0m\n",
      "File \u001b[0;32mcupy/_core/core.pyx:220\u001b[0m, in \u001b[0;36mcupy._core.core._ndarray_base._init\u001b[0;34m()\u001b[0m\n",
      "File \u001b[0;32mcupy/cuda/memory.pyx:738\u001b[0m, in \u001b[0;36mcupy.cuda.memory.alloc\u001b[0;34m()\u001b[0m\n",
      "File \u001b[0;32mcupy/cuda/memory.pyx:1424\u001b[0m, in \u001b[0;36mcupy.cuda.memory.MemoryPool.malloc\u001b[0;34m()\u001b[0m\n",
      "File \u001b[0;32mcupy/cuda/memory.pyx:1444\u001b[0m, in \u001b[0;36mcupy.cuda.memory.MemoryPool.malloc\u001b[0;34m()\u001b[0m\n",
      "File \u001b[0;32mcupy/cuda/device.pyx:40\u001b[0m, in \u001b[0;36mcupy.cuda.device.get_device_id\u001b[0;34m()\u001b[0m\n",
      "File \u001b[0;32mcupy_backends/cuda/api/runtime.pyx:202\u001b[0m, in \u001b[0;36mcupy_backends.cuda.api.runtime.getDevice\u001b[0;34m()\u001b[0m\n",
      "File \u001b[0;32mcupy_backends/cuda/api/runtime.pyx:146\u001b[0m, in \u001b[0;36mcupy_backends.cuda.api.runtime.check_status\u001b[0;34m()\u001b[0m\n",
      "\u001b[0;31mCUDARuntimeError\u001b[0m: cudaErrorInsufficientDriver: CUDA driver version is insufficient for CUDA runtime version"
     ]
    }
   ],
   "source": [
    "variable_qmin_class = SmoothedParabolam2min()"
   ]
  },
  {
   "cell_type": "code",
   "execution_count": 6,
   "id": "48c65809-74a4-4b5c-80b4-fab24f25781c",
   "metadata": {},
   "outputs": [
    {
     "data": {
      "text/plain": [
       "array([[  2.       ,   2.0980981,   2.1961962, ...,  99.8038038,\n",
       "         99.9019019, 100.       ],\n",
       "       [  2.       ,   2.0980981,   2.1961962, ...,  99.8038038,\n",
       "         99.9019019, 100.       ],\n",
       "       [  2.       ,   2.0980981,   2.1961962, ...,  99.8038038,\n",
       "         99.9019019, 100.       ],\n",
       "       ...,\n",
       "       [  2.       ,   2.0980981,   2.1961962, ...,  99.8038038,\n",
       "         99.9019019, 100.       ],\n",
       "       [  2.       ,   2.0980981,   2.1961962, ...,  99.8038038,\n",
       "         99.9019019, 100.       ],\n",
       "       [  2.       ,   2.0980981,   2.1961962, ...,  99.8038038,\n",
       "         99.9019019, 100.       ]])"
      ]
     },
     "execution_count": 6,
     "metadata": {},
     "output_type": "execute_result"
    }
   ],
   "source": [
    "variable_qmin_class.m1s_grid"
   ]
  },
  {
   "cell_type": "code",
   "execution_count": 11,
   "id": "d7cfc014-a910-4739-b585-c8a4e886b92d",
   "metadata": {},
   "outputs": [
    {
     "name": "stdout",
     "output_type": "stream",
     "text": [
      "         372 function calls (345 primitive calls) in 0.212 seconds\n",
      "\n",
      "   Ordered by: internal time\n",
      "\n",
      "   ncalls  tottime  percall  cumtime  percall filename:lineno(function)\n",
      "        2    0.070    0.035    0.070    0.035 interpolate.py:325(build)\n",
      "        3    0.040    0.013    0.043    0.014 utils.py:96(powerlaw)\n",
      "        3    0.038    0.013    0.046    0.015 mass.py:627(smoothing)\n",
      "        1    0.018    0.018    0.137    0.137 __init__.py:488(norm_p_q)\n",
      "       12    0.011    0.001    0.011    0.001 {built-in method numpy.array}\n",
      "        1    0.009    0.009    0.009    0.009 utils.py:132(truncnorm)\n",
      "        1    0.005    0.005    0.006    0.006 interpolate.py:430(_call_cubic)\n",
      "        1    0.003    0.003    0.005    0.005 interpolate.py:356(_construct_cache)\n",
      "        1    0.003    0.003    0.003    0.003 function_base.py:4773(trapz)\n",
      "        4    0.002    0.001    0.002    0.001 ufunclike.py:127(isposinf)\n",
      "        4    0.002    0.000    0.002    0.000 ufunclike.py:199(isneginf)\n",
      "    44/17    0.002    0.000    0.015    0.001 {built-in method numpy.core._multiarray_umath.implement_array_function}\n",
      "       11    0.001    0.000    0.001    0.000 {built-in method numpy.asarray}\n",
      "        5    0.001    0.000    0.001    0.000 {method 'reduce' of 'numpy.ufunc' objects}\n",
      "        3    0.001    0.000    0.001    0.000 _methods.py:108(_clip_dep_invoke_with_casting)\n",
      "        1    0.001    0.001    0.200    0.200 __init__.py:464(p_q)\n",
      "        4    0.001    0.000    0.008    0.002 type_check.py:404(nan_to_num)\n",
      "        1    0.001    0.001    0.011    0.011 mass.py:274(two_component_single)\n",
      "        1    0.000    0.000    0.212    0.212 __init__.py:433(__call__)\n",
      "        1    0.000    0.000    0.012    0.012 mass.py:565(p_m1)\n",
      "        1    0.000    0.000    0.000    0.000 {method 'astype' of 'numpy.ndarray' objects}\n",
      "        4    0.000    0.000    0.052    0.013 utils.py:32(wrapped_function)\n",
      "        4    0.000    0.000    0.000    0.000 type_check.py:394(_getmaxmin)\n",
      "        6    0.000    0.000    0.000    0.000 _methods.py:93(_clip_dep_is_scalar_nan)\n",
      "        1    0.000    0.000    0.000    0.000 function_base.py:1320(diff)\n",
      "        1    0.000    0.000    0.052    0.052 interped.py:10(_setup_interpolant)\n",
      "        1    0.000    0.000    0.036    0.036 interpolate.py:396(__call__)\n",
      "        1    0.000    0.000    0.045    0.045 interpolate.py:317(kind)\n",
      "        1    0.000    0.000    0.212    0.212 {built-in method builtins.exec}\n",
      "        1    0.000    0.000    0.045    0.045 interpolate.py:278(__init__)\n",
      "        1    0.000    0.000    0.052    0.052 mass.py:616(_cache_q_norms)\n",
      "        4    0.000    0.000    0.001    0.000 fromnumeric.py:69(_wrapreduction)\n",
      "        8    0.000    0.000    0.004    0.001 ufunclike.py:48(func)\n",
      "        4    0.000    0.000    0.003    0.001 <__array_function__ internals>:177(isposinf)\n",
      "        4    0.000    0.000    0.000    0.000 getlimits.py:476(__new__)\n",
      "        3    0.000    0.000    0.001    0.000 _methods.py:127(_clip)\n",
      "       13    0.000    0.000    0.001    0.000 <__array_function__ internals>:177(copyto)\n",
      "        5    0.000    0.000    0.000    0.000 <frozen importlib._bootstrap>:1053(_handle_fromlist)\n",
      "        4    0.000    0.000    0.008    0.002 <__array_function__ internals>:177(nan_to_num)\n",
      "        1    0.000    0.000    0.000    0.000 _methods.py:47(_sum)\n",
      "        8    0.000    0.000    0.000    0.000 ufunclike.py:22(func)\n",
      "        6    0.000    0.000    0.000    0.000 _methods.py:103(_clip_dep_is_byte_swapped)\n",
      "        6    0.000    0.000    0.000    0.000 fromnumeric.py:3152(ndim)\n",
      "        1    0.000    0.000    0.000    0.000 {built-in method _operator.ne}\n",
      "        3    0.000    0.000    0.000    0.000 fromnumeric.py:2432(all)\n",
      "        1    0.000    0.000    0.000    0.000 {built-in method _abc._abc_instancecheck}\n",
      "        1    0.000    0.000    0.212    0.212 <string>:1(<module>)\n",
      "        3    0.000    0.000    0.001    0.000 fromnumeric.py:2111(clip)\n",
      "        2    0.000    0.000    0.000    0.000 <frozen importlib._bootstrap>:404(parent)\n",
      "        3    0.000    0.000    0.001    0.000 fromnumeric.py:51(_wrapfunc)\n",
      "        3    0.000    0.000    0.001    0.000 <__array_function__ internals>:177(where)\n",
      "        1    0.000    0.000    0.001    0.001 fromnumeric.py:2188(sum)\n",
      "        3    0.000    0.000    0.001    0.000 {method 'clip' of 'numpy.ndarray' objects}\n",
      "        1    0.000    0.000    0.001    0.001 <__array_function__ internals>:177(sum)\n",
      "        1    0.000    0.000    0.000    0.000 {built-in method _operator.gt}\n",
      "       13    0.000    0.000    0.000    0.000 {built-in method builtins.isinstance}\n",
      "        3    0.000    0.000    0.002    0.001 <__array_function__ internals>:177(clip)\n",
      "        1    0.000    0.000    0.004    0.004 <__array_function__ internals>:177(trapz)\n",
      "        1    0.000    0.000    0.000    0.000 numeric.py:150(ones)\n",
      "        3    0.000    0.000    0.000    0.000 <__array_function__ internals>:177(all)\n",
      "        1    0.000    0.000    0.000    0.000 shape_base.py:23(atleast_1d)\n",
      "        9    0.000    0.000    0.000    0.000 {method 'get' of 'dict' objects}\n",
      "        1    0.000    0.000    0.000    0.000 {method 'sum' of 'numpy.ndarray' objects}\n",
      "        5    0.000    0.000    0.000    0.000 interpolate.py:313(kind)\n",
      "        6    0.000    0.000    0.000    0.000 <__array_function__ internals>:177(ndim)\n",
      "        1    0.000    0.000    0.000    0.000 fromnumeric.py:2183(_sum_dispatcher)\n",
      "        4    0.000    0.000    0.002    0.001 <__array_function__ internals>:177(isneginf)\n",
      "        1    0.000    0.000    0.000    0.000 <__array_function__ internals>:177(atleast_1d)\n",
      "        8    0.000    0.000    0.000    0.000 {built-in method builtins.issubclass}\n",
      "        5    0.000    0.000    0.000    0.000 {built-in method builtins.hasattr}\n",
      "        4    0.000    0.000    0.000    0.000 fromnumeric.py:70(<dictcomp>)\n",
      "       13    0.000    0.000    0.000    0.000 multiarray.py:1079(copyto)\n",
      "        1    0.000    0.000    0.000    0.000 {method 'reshape' of 'numpy.ndarray' objects}\n",
      "        1    0.000    0.000    0.000    0.000 <__array_function__ internals>:177(diff)\n",
      "        4    0.000    0.000    0.000    0.000 {built-in method builtins.getattr}\n",
      "        1    0.000    0.000    0.000    0.000 abc.py:117(__instancecheck__)\n",
      "        8    0.000    0.000    0.000    0.000 {method 'items' of 'dict' objects}\n",
      "        1    0.000    0.000    0.000    0.000 utils.py:280(to_numpy)\n",
      "        1    0.000    0.000    0.000    0.000 {built-in method numpy.empty}\n",
      "        3    0.000    0.000    0.000    0.000 {built-in method builtins.len}\n",
      "        4    0.000    0.000    0.000    0.000 type_check.py:400(_nan_to_num_dispatcher)\n",
      "        1    0.000    0.000    0.000    0.000 mass.py:575(norm_p_m1)\n",
      "        8    0.000    0.000    0.000    0.000 ufunclike.py:68(_dispatcher)\n",
      "        3    0.000    0.000    0.000    0.000 multiarray.py:345(where)\n",
      "        4    0.000    0.000    0.000    0.000 {built-in method numpy.asanyarray}\n",
      "        1    0.000    0.000    0.000    0.000 {built-in method numpy.core._multiarray_umath.normalize_axis_index}\n",
      "        1    0.000    0.000    0.000    0.000 {method 'disable' of '_lsprof.Profiler' objects}\n",
      "        6    0.000    0.000    0.000    0.000 fromnumeric.py:3148(_ndim_dispatcher)\n",
      "        2    0.000    0.000    0.000    0.000 {method 'append' of 'list' objects}\n",
      "        2    0.000    0.000    0.000    0.000 {method 'rpartition' of 'str' objects}\n",
      "        3    0.000    0.000    0.000    0.000 fromnumeric.py:2107(_clip_dispatcher)\n",
      "        1    0.000    0.000    0.000    0.000 mass.py:533(kwargs)\n",
      "        3    0.000    0.000    0.000    0.000 fromnumeric.py:2427(_all_dispatcher)\n",
      "        9    0.000    0.000    0.000    0.000 {method 'pop' of 'dict' objects}\n",
      "        1    0.000    0.000    0.000    0.000 function_base.py:4769(_trapz_dispatcher)\n",
      "        6    0.000    0.000    0.000    0.000 {built-in method builtins.callable}\n",
      "        1    0.000    0.000    0.000    0.000 shape_base.py:19(_atleast_1d_dispatcher)\n",
      "        1    0.000    0.000    0.000    0.000 {built-in method _operator.ge}\n",
      "        1    0.000    0.000    0.000    0.000 function_base.py:1316(_diff_dispatcher)\n",
      "\n",
      "\n"
     ]
    }
   ],
   "source": [
    "cProfile.run('variable_qmin_class(dataset, norm=True, **params)', sort='tottime')"
   ]
  },
  {
   "cell_type": "code",
   "execution_count": 18,
   "id": "743efe22-eb64-472a-b544-4806095344f0",
   "metadata": {},
   "outputs": [
    {
     "name": "stderr",
     "output_type": "stream",
     "text": [
      "/home/storm.colloms/.local/lib/python3.10/site-packages/gwpopulation/utils.py:123: RuntimeWarning: invalid value encountered in log\n",
      "  1 / xp.log(high / low),\n",
      "/home/storm.colloms/.local/lib/python3.10/site-packages/gwpopulation/utils.py:124: RuntimeWarning: invalid value encountered in power\n",
      "  (1 + alpha) / xp.array(high ** (1 + alpha) - low ** (1 + alpha)),\n",
      "/home/storm.colloms/O4a_population/variable_qmin/variable_qmin/__init__.py:509: RuntimeWarning: invalid value encountered in multiply\n",
      "  p_q *= self.smoothing(\n"
     ]
    },
    {
     "data": {
      "text/plain": [
       "[<matplotlib.lines.Line2D at 0x7fd7a807a5f0>]"
      ]
     },
     "execution_count": 18,
     "metadata": {},
     "output_type": "execute_result"
    },
    {
     "data": {
      "image/png": "[encoded data removed]",
      "text/plain": [
       "<Figure size 640x480 with 1 Axes>"
      ]
     },
     "metadata": {},
     "output_type": "display_data"
    }
   ],
   "source": [
    "plt.plot(np.linspace(0,1,100000),variable_qmin_class(dataset, norm=True, **params))\n",
    "plt.plot(np.linspace(0,1,100000),variable_qmin_class(dataset, norm=False, **params))\n"
   ]
  },
  {
   "cell_type": "code",
   "execution_count": 8,
   "id": "987d1865-8e9c-41f8-9131-78c844498349",
   "metadata": {},
   "outputs": [
    {
     "data": {
      "text/plain": [
       "1364.684039463149"
      ]
     },
     "execution_count": 8,
     "metadata": {},
     "output_type": "execute_result"
    }
   ],
   "source": [
    "np.sum(variable_qmin_class(dataset, **params))"
   ]
  },
  {
   "cell_type": "code",
   "execution_count": 9,
   "id": "701ed8d5-9625-49d6-aa0e-b3cf707fd20f",
   "metadata": {},
   "outputs": [
    {
     "data": {
      "text/plain": [
       "1306.559022806091"
      ]
     },
     "execution_count": 9,
     "metadata": {},
     "output_type": "execute_result"
    }
   ],
   "source": [
    "np.sum(variable_qmin_class(dataset, norm=False, **params))"
   ]
  },
  {
   "cell_type": "code",
   "execution_count": 9,
   "id": "a841cda2-cab1-4b4b-9f2f-07da0382d35b",
   "metadata": {},
   "outputs": [
    {
     "name": "stderr",
     "output_type": "stream",
     "text": [
      "/home/storm.colloms/.local/lib/python3.10/site-packages/gwpopulation/utils.py:123: RuntimeWarning: divide by zero encountered in divide\n",
      "  1 / xp.log(high / low),\n",
      "/home/storm.colloms/.local/lib/python3.10/site-packages/gwpopulation/utils.py:124: RuntimeWarning: divide by zero encountered in divide\n",
      "  (1 + alpha) / xp.array(high ** (1 + alpha) - low ** (1 + alpha)),\n",
      "/home/storm.colloms/.local/lib/python3.10/site-packages/gwpopulation/utils.py:128: RuntimeWarning: invalid value encountered in multiply\n",
      "  prob *= (xx <= high) & (xx >= low)\n"
     ]
    },
    {
     "name": "stdout",
     "output_type": "stream",
     "text": [
      "nan\n",
      "197040.89546946672\n",
      "1262.875117624118\n",
      "--- 0.44352293014526367 seconds ---\n"
     ]
    },
    {
     "name": "stderr",
     "output_type": "stream",
     "text": [
      "/home/storm.colloms/O4a_population/variable_qmin/variable_qmin/__init__.py:510: RuntimeWarning: invalid value encountered in multiply\n",
      "  p_q *= self.smoothing(\n"
     ]
    }
   ],
   "source": [
    "import time\n",
    "start_time = time.time()\n",
    "print(np.sum(variable_qmin_class(dataset, **params)))\n",
    "print(\"--- %s seconds ---\" % (time.time() - start_time))"
   ]
  },
  {
   "cell_type": "code",
   "execution_count": 9,
   "id": "6cf3e301-6d47-484c-ba86-38a79308730f",
   "metadata": {},
   "outputs": [
    {
     "data": {
      "text/plain": [
       "1020.4008090282176"
      ]
     },
     "execution_count": 9,
     "metadata": {},
     "output_type": "execute_result"
    }
   ],
   "source": [
    "params = dict(\n",
    "        alpha=alpha,\n",
    "        mmin=2.,\n",
    "        mmax=100.,\n",
    "        lam=lam,\n",
    "        mpp=mpp,\n",
    "        sigpp=sigpp,\n",
    "        delta_m=5.,\n",
    "        gaussian_mass_maximum=np.ones(no_points)*60.,\n",
    "    )\n",
    "np.sum(variable_qmin_class.p_m1(dataset, **params))"
   ]
  },
  {
   "cell_type": "code",
   "execution_count": 7,
   "id": "1d2295f0-fd17-41ed-8a6d-510895488ac5",
   "metadata": {},
   "outputs": [
    {
     "name": "stdout",
     "output_type": "stream",
     "text": [
      "196485.65513608145\n"
     ]
    },
    {
     "name": "stderr",
     "output_type": "stream",
     "text": [
      "/home/storm.colloms/O4a_population/variable_qmin/variable_qmin/__init__.py:497: RuntimeWarning: invalid value encountered in divide\n",
      "  p_q /= self.norm_p_q(beta=beta, mmax=mmax, mmin=mmin, delta_m=delta_m, gamma=gamma, zeta=zeta)\n"
     ]
    },
    {
     "data": {
      "text/plain": [
       "196633.6949031832"
      ]
     },
     "execution_count": 7,
     "metadata": {},
     "output_type": "execute_result"
    }
   ],
   "source": [
    "np.sum(variable_qmin_class.p_q(dataset, beta, mmax, mmin, delta_m, gamma, zeta))"
   ]
  },
  {
   "cell_type": "code",
   "execution_count": 12,
   "id": "da107d98-797a-4160-ab4d-eafb296bd716",
   "metadata": {},
   "outputs": [
    {
     "data": {
      "image/png": "[encoded data removed]",
      "text/plain": [
       "<Figure size 640x480 with 1 Axes>"
      ]
     },
     "metadata": {},
     "output_type": "display_data"
    }
   ],
   "source": [
    "plt.plot(dataset[\"mass_1\"], p_m1)\n",
    "params = dict(\n",
    "        alpha=alpha,\n",
    "        mmin=mmin,\n",
    "        mmax=mmax,\n",
    "        lam=lam,\n",
    "        mpp=mpp,\n",
    "        sigpp=sigpp,\n",
    "        gaussian_mass_maximum=np.ones(no_points)*60.,\n",
    "    )\n",
    "#plt.plot(dataset[\"mass_1\"], two_component_single(dataset[\"mass_1\"], **params))\n",
    "plt.yscale('log')"
   ]
  },
  {
   "cell_type": "code",
   "execution_count": 6,
   "id": "e29da94e-ad96-4de4-83e3-08ca94188af2",
   "metadata": {},
   "outputs": [
    {
     "data": {
      "image/png": "[encoded data removed]",
      "text/plain": [
       "<Figure size 640x480 with 1 Axes>"
      ]
     },
     "metadata": {},
     "output_type": "display_data"
    }
   ],
   "source": [
    "plt.plot(dataset[\"mass_1\"], p_m1)\n",
    "params = dict(\n",
    "        alpha=alpha,\n",
    "        mmin=mmin,\n",
    "        mmax=mmax,\n",
    "        lam=lam,\n",
    "        mpp=mpp,\n",
    "        sigpp=sigpp,\n",
    "        gaussian_mass_maximum=np.ones(no_points)*60.,\n",
    "    )\n",
    "#plt.plot(dataset[\"mass_1\"], two_component_single(dataset[\"mass_1\"], **params))\n",
    "plt.yscale('log')"
   ]
  },
  {
   "cell_type": "code",
   "execution_count": 23,
   "id": "4be38c12-a13f-47d4-b3ff-be67f5199ae2",
   "metadata": {},
   "outputs": [],
   "source": []
  }
 ],
 "metadata": {
  "kernelspec": {
   "display_name": "Python 3 (ipykernel)",
   "language": "python",
   "name": "python3"
  },
  "language_info": {
   "codemirror_mode": {
    "name": "ipython",
    "version": 3
   },
   "file_extension": ".py",
   "mimetype": "text/x-python",
   "name": "python",
   "nbconvert_exporter": "python",
   "pygments_lexer": "ipython3",
   "version": "3.10.14"
  }
 },
 "nbformat": 4,
 "nbformat_minor": 5
}
