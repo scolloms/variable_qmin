{
 "cells": [
  {
   "cell_type": "markdown",
   "id": "a68d018a-4cd0-4881-8e14-871d96c9c9cb",
   "metadata": {},
   "source": [
    "Testing how implemntation of SmoothedParabolam2min and SmoothedPLm2min"
   ]
  },
  {
   "cell_type": "code",
   "execution_count": 1,
   "id": "823fbf1d-89df-4bf9-8d16-f4599fd7703d",
   "metadata": {},
   "outputs": [
    {
     "name": "stderr",
     "output_type": "stream",
     "text": [
      "/opt/conda/igwn-py310-20240410/lib/python3.10/site-packages/pandas/core/computation/expressions.py:21: UserWarning: Pandas requires version '2.8.4' or newer of 'numexpr' (version '2.7.3' currently installed).\n",
      "  from pandas.core.computation.check import NUMEXPR_INSTALLED\n"
     ]
    }
   ],
   "source": [
    "import h5py\n",
    "import matplotlib.pyplot as plt\n",
    "import numpy as np\n",
    "import corner as corner\n",
    "from gwpopulation.utils import powerlaw\n",
    "import glob\n",
    "import corner as corner\n",
    "import os\n"
   ]
  },
  {
   "cell_type": "code",
   "execution_count": 2,
   "id": "242b3aab-9962-49cb-a146-edf46853fde3",
   "metadata": {},
   "outputs": [],
   "source": [
    "from gwpopulation.models.mass import SinglePeakSmoothedMassDistribution, two_component_single"
   ]
  },
  {
   "cell_type": "code",
   "execution_count": 3,
   "id": "dd415370-3a71-4ccf-bfc2-57b58b0b9377",
   "metadata": {},
   "outputs": [],
   "source": [
    "from variable_qmin import SmoothedParabolam2min, SmoothedPowerlawm2min"
   ]
  },
  {
   "cell_type": "code",
   "execution_count": null,
   "id": "3a01100f-4772-4d7b-af46-350a90326d36",
   "metadata": {},
   "outputs": [],
   "source": [
    "[5.65164488e+00 3.53778714e+00 6.73642545e+01 5.22534613e+00\n",
    " 8.46833491e-02 2.69452725e+01 6.26666303e+00 4.51814843e+00\n",
    " 2.81455755e-01 2.44810557e-02 6.72600938e-01 3.89209056e+00\n",
    " 4.44031541e+00]"
   ]
  },
  {
   "cell_type": "code",
   "execution_count": 4,
   "id": "678735ef-e6a7-4905-8deb-2c42679f7209",
   "metadata": {},
   "outputs": [],
   "source": [
    "#points from prior\n",
    "no_points = 1\n",
    "dataset={'mass_1':np.linspace(2.,100.,100000), 'mass_ratio':np.linspace(.5,1.,100000)} \n",
    "alpha = np.ones(no_points)*.5\n",
    "beta = np.ones(no_points)*6.5\n",
    "gamma = np.ones(no_points)*.35\n",
    "zeta = np.ones(no_points)*-0.0001\n",
    "mmin = np.ones(no_points)*3.\n",
    "mmax = np.ones(no_points)*70.\n",
    "lam = np.ones(no_points)*0.1\n",
    "mpp  = np.ones(no_points)*35\n",
    "sigpp = np.ones(no_points)*5.\n",
    "delta_m = np.ones(no_points)*5."
   ]
  },
  {
   "cell_type": "code",
   "execution_count": 5,
   "id": "4778e46e-f1c9-49be-a238-e6bddcaf5b65",
   "metadata": {},
   "outputs": [],
   "source": [
    "params = dict(\n",
    "        alpha=alpha,\n",
    "        beta =beta,\n",
    "        gamma=gamma,\n",
    "        zeta=zeta,\n",
    "        mmin=2.,\n",
    "        mmax=100.,\n",
    "        lam=lam,\n",
    "        mpp=mpp,\n",
    "        sigpp=sigpp,\n",
    "        delta_m=5.,\n",
    "        gaussian_mass_maximum=np.ones(no_points)*60.,\n",
    "    )"
   ]
  },
  {
   "cell_type": "code",
   "execution_count": 7,
   "id": "9dec63cc-da31-455f-9cf5-9de8e7dfe517",
   "metadata": {},
   "outputs": [],
   "source": [
    "variable_qmin_class = SmoothedParabolam2min()"
   ]
  },
  {
   "cell_type": "code",
   "execution_count": 7,
   "id": "743efe22-eb64-472a-b544-4806095344f0",
   "metadata": {},
   "outputs": [
    {
     "name": "stderr",
     "output_type": "stream",
     "text": [
      "/home/storm.colloms/.local/lib/python3.10/site-packages/gwpopulation/utils.py:123: RuntimeWarning: divide by zero encountered in divide\n",
      "  1 / xp.log(high / low),\n",
      "/home/storm.colloms/.local/lib/python3.10/site-packages/gwpopulation/utils.py:124: RuntimeWarning: divide by zero encountered in divide\n",
      "  (1 + alpha) / xp.array(high ** (1 + alpha) - low ** (1 + alpha)),\n",
      "/home/storm.colloms/.local/lib/python3.10/site-packages/gwpopulation/utils.py:128: RuntimeWarning: invalid value encountered in multiply\n",
      "  prob *= (xx <= high) & (xx >= low)\n"
     ]
    },
    {
     "data": {
      "text/plain": [
       "[<matplotlib.lines.Line2D at 0x7fb8ade57d00>]"
      ]
     },
     "execution_count": 7,
     "metadata": {},
     "output_type": "execute_result"
    },
    {
     "data": {
      "image/png": "[encoded data removed]",
      "text/plain": [
       "<Figure size 640x480 with 1 Axes>"
      ]
     },
     "metadata": {},
     "output_type": "display_data"
    }
   ],
   "source": [
    "plt.plot(np.linspace(0,1,100000),variable_qmin_class(dataset, **params))"
   ]
  },
  {
   "cell_type": "code",
   "execution_count": 8,
   "id": "987d1865-8e9c-41f8-9131-78c844498349",
   "metadata": {},
   "outputs": [
    {
     "ename": "TypeError",
     "evalue": "SmoothedParabolam2min.p_q() got an unexpected keyword argument 'alpha'",
     "output_type": "error",
     "traceback": [
      "\u001b[0;31m---------------------------------------------------------------------------\u001b[0m",
      "\u001b[0;31mTypeError\u001b[0m                                 Traceback (most recent call last)",
      "Cell \u001b[0;32mIn[8], line 1\u001b[0m\n\u001b[0;32m----> 1\u001b[0m np\u001b[38;5;241m.\u001b[39msum(\u001b[43mvariable_qmin_class\u001b[49m\u001b[38;5;241;43m.\u001b[39;49m\u001b[43mp_q\u001b[49m\u001b[43m(\u001b[49m\u001b[43mdataset\u001b[49m\u001b[43m,\u001b[49m\u001b[43m \u001b[49m\u001b[38;5;241;43m*\u001b[39;49m\u001b[38;5;241;43m*\u001b[39;49m\u001b[43mparams\u001b[49m\u001b[43m)\u001b[49m)\n",
      "\u001b[0;31mTypeError\u001b[0m: SmoothedParabolam2min.p_q() got an unexpected keyword argument 'alpha'"
     ]
    }
   ],
   "source": [
    "np.sum(variable_qmin_class.p_q(dataset, **params))"
   ]
  },
  {
   "cell_type": "code",
   "execution_count": 9,
   "id": "a841cda2-cab1-4b4b-9f2f-07da0382d35b",
   "metadata": {},
   "outputs": [
    {
     "name": "stderr",
     "output_type": "stream",
     "text": [
      "/home/storm.colloms/.local/lib/python3.10/site-packages/gwpopulation/utils.py:123: RuntimeWarning: divide by zero encountered in divide\n",
      "  1 / xp.log(high / low),\n",
      "/home/storm.colloms/.local/lib/python3.10/site-packages/gwpopulation/utils.py:124: RuntimeWarning: divide by zero encountered in divide\n",
      "  (1 + alpha) / xp.array(high ** (1 + alpha) - low ** (1 + alpha)),\n",
      "/home/storm.colloms/.local/lib/python3.10/site-packages/gwpopulation/utils.py:128: RuntimeWarning: invalid value encountered in multiply\n",
      "  prob *= (xx <= high) & (xx >= low)\n"
     ]
    },
    {
     "name": "stdout",
     "output_type": "stream",
     "text": [
      "nan\n",
      "197040.89546946672\n",
      "1262.875117624118\n",
      "--- 0.44352293014526367 seconds ---\n"
     ]
    },
    {
     "name": "stderr",
     "output_type": "stream",
     "text": [
      "/home/storm.colloms/O4a_population/variable_qmin/variable_qmin/__init__.py:510: RuntimeWarning: invalid value encountered in multiply\n",
      "  p_q *= self.smoothing(\n"
     ]
    }
   ],
   "source": [
    "import time\n",
    "start_time = time.time()\n",
    "print(np.sum(variable_qmin_class(dataset, **params)))\n",
    "print(\"--- %s seconds ---\" % (time.time() - start_time))"
   ]
  },
  {
   "cell_type": "code",
   "execution_count": 9,
   "id": "6cf3e301-6d47-484c-ba86-38a79308730f",
   "metadata": {},
   "outputs": [
    {
     "data": {
      "text/plain": [
       "1020.4008090282176"
      ]
     },
     "execution_count": 9,
     "metadata": {},
     "output_type": "execute_result"
    }
   ],
   "source": [
    "params = dict(\n",
    "        alpha=alpha,\n",
    "        mmin=2.,\n",
    "        mmax=100.,\n",
    "        lam=lam,\n",
    "        mpp=mpp,\n",
    "        sigpp=sigpp,\n",
    "        delta_m=5.,\n",
    "        gaussian_mass_maximum=np.ones(no_points)*60.,\n",
    "    )\n",
    "np.sum(variable_qmin_class.p_m1(dataset, **params))"
   ]
  },
  {
   "cell_type": "code",
   "execution_count": 7,
   "id": "1d2295f0-fd17-41ed-8a6d-510895488ac5",
   "metadata": {},
   "outputs": [
    {
     "name": "stdout",
     "output_type": "stream",
     "text": [
      "196485.65513608145\n"
     ]
    },
    {
     "name": "stderr",
     "output_type": "stream",
     "text": [
      "/home/storm.colloms/O4a_population/variable_qmin/variable_qmin/__init__.py:497: RuntimeWarning: invalid value encountered in divide\n",
      "  p_q /= self.norm_p_q(beta=beta, mmax=mmax, mmin=mmin, delta_m=delta_m, gamma=gamma, zeta=zeta)\n"
     ]
    },
    {
     "data": {
      "text/plain": [
       "196633.6949031832"
      ]
     },
     "execution_count": 7,
     "metadata": {},
     "output_type": "execute_result"
    }
   ],
   "source": [
    "np.sum(variable_qmin_class.p_q(dataset, beta, mmax, mmin, delta_m, gamma, zeta))"
   ]
  },
  {
   "cell_type": "code",
   "execution_count": 12,
   "id": "da107d98-797a-4160-ab4d-eafb296bd716",
   "metadata": {},
   "outputs": [
    {
     "data": {
      "image/png": "[encoded data removed]",
      "text/plain": [
       "<Figure size 640x480 with 1 Axes>"
      ]
     },
     "metadata": {},
     "output_type": "display_data"
    }
   ],
   "source": [
    "plt.plot(dataset[\"mass_1\"], p_m1)\n",
    "params = dict(\n",
    "        alpha=alpha,\n",
    "        mmin=mmin,\n",
    "        mmax=mmax,\n",
    "        lam=lam,\n",
    "        mpp=mpp,\n",
    "        sigpp=sigpp,\n",
    "        gaussian_mass_maximum=np.ones(no_points)*60.,\n",
    "    )\n",
    "#plt.plot(dataset[\"mass_1\"], two_component_single(dataset[\"mass_1\"], **params))\n",
    "plt.yscale('log')"
   ]
  },
  {
   "cell_type": "code",
   "execution_count": 6,
   "id": "e29da94e-ad96-4de4-83e3-08ca94188af2",
   "metadata": {},
   "outputs": [
    {
     "data": {
      "image/png": "[encoded data removed]",
      "text/plain": [
       "<Figure size 640x480 with 1 Axes>"
      ]
     },
     "metadata": {},
     "output_type": "display_data"
    }
   ],
   "source": [
    "plt.plot(dataset[\"mass_1\"], p_m1)\n",
    "params = dict(\n",
    "        alpha=alpha,\n",
    "        mmin=mmin,\n",
    "        mmax=mmax,\n",
    "        lam=lam,\n",
    "        mpp=mpp,\n",
    "        sigpp=sigpp,\n",
    "        gaussian_mass_maximum=np.ones(no_points)*60.,\n",
    "    )\n",
    "#plt.plot(dataset[\"mass_1\"], two_component_single(dataset[\"mass_1\"], **params))\n",
    "plt.yscale('log')"
   ]
  },
  {
   "cell_type": "code",
   "execution_count": 23,
   "id": "4be38c12-a13f-47d4-b3ff-be67f5199ae2",
   "metadata": {},
   "outputs": [],
   "source": []
  }
 ],
 "metadata": {
  "kernelspec": {
   "display_name": "Python 3 (ipykernel)",
   "language": "python",
   "name": "python3"
  },
  "language_info": {
   "codemirror_mode": {
    "name": "ipython",
    "version": 3
   },
   "file_extension": ".py",
   "mimetype": "text/x-python",
   "name": "python",
   "nbconvert_exporter": "python",
   "pygments_lexer": "ipython3",
   "version": "3.10.14"
  }
 },
 "nbformat": 4,
 "nbformat_minor": 5
}
